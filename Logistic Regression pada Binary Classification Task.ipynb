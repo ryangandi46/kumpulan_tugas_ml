{
 "cells": [
  {
   "cell_type": "markdown",
   "id": "0c4e9dc9-987f-4423-b41e-18650cb8377b",
   "metadata": {},
   "source": [
    "Dataset: SMS Spam Collection Data Set"
   ]
  },
  {
   "cell_type": "code",
   "execution_count": 1,
   "id": "cbb25015-47db-4dc4-821b-5e41294af6f7",
   "metadata": {},
   "outputs": [
    {
     "data": {
      "text/html": [
       "<div>\n",
       "<style scoped>\n",
       "    .dataframe tbody tr th:only-of-type {\n",
       "        vertical-align: middle;\n",
       "    }\n",
       "\n",
       "    .dataframe tbody tr th {\n",
       "        vertical-align: top;\n",
       "    }\n",
       "\n",
       "    .dataframe thead th {\n",
       "        text-align: right;\n",
       "    }\n",
       "</style>\n",
       "<table border=\"1\" class=\"dataframe\">\n",
       "  <thead>\n",
       "    <tr style=\"text-align: right;\">\n",
       "      <th></th>\n",
       "      <th>label</th>\n",
       "      <th>sms</th>\n",
       "    </tr>\n",
       "  </thead>\n",
       "  <tbody>\n",
       "    <tr>\n",
       "      <th>0</th>\n",
       "      <td>ham</td>\n",
       "      <td>Go until jurong point, crazy.. Available only ...</td>\n",
       "    </tr>\n",
       "    <tr>\n",
       "      <th>1</th>\n",
       "      <td>ham</td>\n",
       "      <td>Ok lar... Joking wif u oni...</td>\n",
       "    </tr>\n",
       "    <tr>\n",
       "      <th>2</th>\n",
       "      <td>spam</td>\n",
       "      <td>Free entry in 2 a wkly comp to win FA Cup fina...</td>\n",
       "    </tr>\n",
       "    <tr>\n",
       "      <th>3</th>\n",
       "      <td>ham</td>\n",
       "      <td>U dun say so early hor... U c already then say...</td>\n",
       "    </tr>\n",
       "    <tr>\n",
       "      <th>4</th>\n",
       "      <td>ham</td>\n",
       "      <td>Nah I don't think he goes to usf, he lives aro...</td>\n",
       "    </tr>\n",
       "  </tbody>\n",
       "</table>\n",
       "</div>"
      ],
      "text/plain": [
       "  label                                                sms\n",
       "0   ham  Go until jurong point, crazy.. Available only ...\n",
       "1   ham                      Ok lar... Joking wif u oni...\n",
       "2  spam  Free entry in 2 a wkly comp to win FA Cup fina...\n",
       "3   ham  U dun say so early hor... U c already then say...\n",
       "4   ham  Nah I don't think he goes to usf, he lives aro..."
      ]
     },
     "execution_count": 1,
     "metadata": {},
     "output_type": "execute_result"
    }
   ],
   "source": [
    "import pandas as pd\n",
    "\n",
    "df = pd.read_csv('./dataset/SMSSpamCollection',\n",
    "                 sep='\\t',\n",
    "                 header=None,\n",
    "                 names=['label', 'sms'])\n",
    "df.head()\n",
    "# print('\\nRyan Septian Gandi')"
   ]
  },
  {
   "cell_type": "code",
   "execution_count": 2,
   "id": "22f87835-b075-460a-89df-8f398bfeac7c",
   "metadata": {},
   "outputs": [
    {
     "data": {
      "text/plain": [
       "label\n",
       "ham     4825\n",
       "spam     747\n",
       "Name: count, dtype: int64"
      ]
     },
     "execution_count": 2,
     "metadata": {},
     "output_type": "execute_result"
    }
   ],
   "source": [
    "df['label'].value_counts()\n",
    "# print('\\nRyan Septian Gandi')"
   ]
  },
  {
   "cell_type": "markdown",
   "id": "83228b1c-b053-4409-a614-4811e44c11a3",
   "metadata": {},
   "source": [
    "Training & Testing Dataset"
   ]
  },
  {
   "cell_type": "code",
   "execution_count": 3,
   "id": "4231dd7d-9474-4314-bb59-1a1474fd72b3",
   "metadata": {},
   "outputs": [
    {
     "data": {
      "text/plain": [
       "array(['ham', 'spam'], dtype='<U4')"
      ]
     },
     "execution_count": 3,
     "metadata": {},
     "output_type": "execute_result"
    }
   ],
   "source": [
    "from sklearn.preprocessing import LabelBinarizer\n",
    "\n",
    "X = df['sms'].values\n",
    "y = df['label'].values\n",
    "\n",
    "lb = LabelBinarizer()\n",
    "y = lb.fit_transform(y).ravel()\n",
    "lb.classes_\n",
    "# print('\\nRyan Septian Gandi')"
   ]
  },
  {
   "cell_type": "code",
   "execution_count": 4,
   "id": "0806aed1-7e03-4477-a2fc-fd47015dadcb",
   "metadata": {},
   "outputs": [
    {
     "name": "stdout",
     "output_type": "stream",
     "text": [
      "['Its going good...no problem..but still need little experience to understand american customer voice...'\n",
      " 'U have a secret admirer. REVEAL who thinks U R So special. Call 09065174042. To opt out Reply REVEAL STOP. 1.50 per msg recd. Cust care 07821230901'\n",
      " 'Ok...' ...\n",
      " \"For ur chance to win a £250 cash every wk TXT: ACTION to 80608. T's&C's www.movietrivia.tv custcare 08712405022, 1x150p/wk\"\n",
      " 'R U &SAM P IN EACHOTHER. IF WE MEET WE CAN GO 2 MY HOUSE'\n",
      " 'Mm feeling sleepy. today itself i shall get that dear'] \n",
      "\n",
      "[0 1 0 ... 1 0 0]\n",
      "\n",
      "Ryan Septian Gandi\n"
     ]
    }
   ],
   "source": [
    "from sklearn.model_selection import train_test_split\n",
    "\n",
    "X_train, X_test, y_train, y_test = train_test_split(X,\n",
    "                                                    y,\n",
    "                                                    test_size=0.25,\n",
    "                                                    random_state=0)\n",
    "\n",
    "print(X_train, '\\n')\n",
    "print(y_train)\n",
    "print('\\nRyan Septian Gandi')"
   ]
  },
  {
   "cell_type": "markdown",
   "id": "a7b48287-403c-4aaf-9449-038945b0afa0",
   "metadata": {},
   "source": [
    "Feature Extraction dengan TF-IDF"
   ]
  },
  {
   "cell_type": "code",
   "execution_count": 5,
   "id": "e6c1cf9e-d9c4-4970-b3a3-6e5706cf857f",
   "metadata": {},
   "outputs": [
    {
     "name": "stdout",
     "output_type": "stream",
     "text": [
      "<Compressed Sparse Row sparse matrix of dtype 'float64'\n",
      "\twith 32656 stored elements and shape (4179, 7287)>\n",
      "  Coords\tValues\n",
      "  (0, 2997)\t0.23173982975834367\n",
      "  (0, 3007)\t0.21421364306658514\n",
      "  (0, 5123)\t0.308974289326673\n",
      "  (0, 4453)\t0.2297719954323795\n",
      "  (0, 3926)\t0.3126721340000456\n",
      "  (0, 2554)\t0.3825278811525034\n",
      "  (0, 6739)\t0.3546359942830148\n",
      "  (0, 900)\t0.4114867709157148\n",
      "  (0, 2006)\t0.2898082580285881\n",
      "  (0, 6903)\t0.3591386422223876\n",
      "  (1, 5642)\t0.24344998442301355\n",
      "  (1, 799)\t0.25048918791028574\n",
      "  (1, 5441)\t0.5009783758205715\n",
      "  (1, 6472)\t0.24039776602646504\n",
      "  (1, 6013)\t0.20089911182610476\n",
      "  (1, 216)\t0.28902673040368515\n",
      "  (1, 4677)\t0.24039776602646504\n",
      "  (1, 5394)\t0.16464655071448758\n",
      "  (1, 6131)\t0.16142609035094446\n",
      "  (1, 532)\t0.20186022353306565\n",
      "  (1, 4358)\t0.17341410292348694\n",
      "  (1, 5301)\t0.2711077935907125\n",
      "  (1, 2003)\t0.2711077935907125\n",
      "  (1, 1548)\t0.18167737976542422\n",
      "  (1, 36)\t0.28902673040368515\n",
      "  :\t:\n",
      "  (4176, 6792)\t0.1407604617250961\n",
      "  (4176, 6693)\t0.16491299289150899\n",
      "  (4176, 6684)\t0.22114159453800114\n",
      "  (4176, 7083)\t0.19523751585154273\n",
      "  (4176, 1569)\t0.18895085073406012\n",
      "  (4176, 7195)\t0.17892283441772988\n",
      "  (4176, 779)\t0.2811068572055718\n",
      "  (4176, 1612)\t0.21138425595332702\n",
      "  (4176, 365)\t0.2388005587702937\n",
      "  (4176, 7114)\t0.4512018097459442\n",
      "  (4176, 637)\t0.29968668460649284\n",
      "  (4176, 4350)\t0.29968668460649284\n",
      "  (4176, 2004)\t0.25589560236817055\n",
      "  (4176, 107)\t0.29968668460649284\n",
      "  (4176, 343)\t0.2811068572055718\n",
      "  (4177, 3319)\t0.43046342221720785\n",
      "  (4177, 4177)\t0.3636187667918345\n",
      "  (4177, 5565)\t0.5506066649743346\n",
      "  (4177, 2362)\t0.6158854885899457\n",
      "  (4178, 2068)\t0.3055766821331892\n",
      "  (4178, 2641)\t0.3993042639531407\n",
      "  (4178, 6555)\t0.2897850627168302\n",
      "  (4178, 5720)\t0.3963527249882828\n",
      "  (4178, 4279)\t0.4530624713751054\n",
      "  (4178, 5883)\t0.548491137555895\n",
      "\n",
      "Ryan Septian Gandi\n"
     ]
    }
   ],
   "source": [
    "from sklearn.feature_extraction.text import TfidfVectorizer\n",
    "\n",
    "vectorizer = TfidfVectorizer(stop_words='english')\n",
    "\n",
    "X_train_tfidf = vectorizer.fit_transform(X_train)\n",
    "X_test_tfidf = vectorizer.transform(X_test)\n",
    "\n",
    "print(X_train_tfidf)\n",
    "print('\\nRyan Septian Gandi')"
   ]
  },
  {
   "cell_type": "markdown",
   "id": "0993eb62-0d1c-4cba-a9b5-a77632b026da",
   "metadata": {},
   "source": [
    "Binary Classification dengan Logistic Regression"
   ]
  },
  {
   "cell_type": "code",
   "execution_count": 6,
   "id": "cb1ce296-e6ef-491f-9ec1-0e417e657be1",
   "metadata": {},
   "outputs": [
    {
     "name": "stdout",
     "output_type": "stream",
     "text": [
      "PRED: 0 - SMS: Storming msg: Wen u lift d phne, u say \"HELLO\" Do u knw wt is d real meaning of HELLO?? . . . It's d name of a girl..! . . . Yes.. And u knw who is dat girl?? \"Margaret Hello\" She is d girlfrnd f Grahmbell who invnted telphone... . . . . Moral:One can 4get d name of a person, bt not his girlfrnd... G o o d n i g h t . . .@\n",
      "\n",
      "PRED: 0 - SMS: <Forwarded from 448712404000>Please CALL 08712404000 immediately as there is an urgent message waiting for you.\n",
      "\n",
      "PRED: 0 - SMS: And also I've sorta blown him off a couple times recently so id rather not text him out of the blue looking for weed\n",
      "\n",
      "PRED: 0 - SMS: Sir Goodmorning, Once free call me.\n",
      "\n",
      "PRED: 0 - SMS: All will come alive.better correct any good looking figure there itself..\n",
      "\n",
      "\n",
      "Ryan Septian Gandi\n"
     ]
    }
   ],
   "source": [
    "from sklearn.linear_model import LogisticRegression\n",
    "\n",
    "model = LogisticRegression()\n",
    "model.fit(X_train_tfidf, y_train)\n",
    "y_pred = model.predict(X_test_tfidf)\n",
    "\n",
    "for pred, sms in zip(y_pred[:5], X_test[:5]):\n",
    "    print(f'PRED: {pred} - SMS: {sms}\\n')\n",
    "print('\\nRyan Septian Gandi')"
   ]
  },
  {
   "cell_type": "markdown",
   "id": "3a48dff7-4f81-4b65-902e-68251d55a26a",
   "metadata": {},
   "source": [
    "Evaluation Metrics pada Binary Classification"
   ]
  },
  {
   "cell_type": "markdown",
   "id": "2d93213f-50a3-4c44-b0c6-bc2314a5ed64",
   "metadata": {},
   "source": [
    "Confusion Matrix"
   ]
  },
  {
   "cell_type": "code",
   "execution_count": 7,
   "id": "e743e56b-45b4-44bc-8759-853b844397c7",
   "metadata": {},
   "outputs": [
    {
     "data": {
      "text/plain": [
       "array([[1207,    1],\n",
       "       [  47,  138]])"
      ]
     },
     "execution_count": 7,
     "metadata": {},
     "output_type": "execute_result"
    }
   ],
   "source": [
    "from sklearn.metrics import confusion_matrix\n",
    "\n",
    "matrix = confusion_matrix(y_test, y_pred)\n",
    "matrix\n",
    "# print('\\nRyan Septian Gandi')"
   ]
  },
  {
   "cell_type": "code",
   "execution_count": 8,
   "id": "9d32df09-6059-4cb7-bbe6-b0edd1604d27",
   "metadata": {},
   "outputs": [
    {
     "name": "stdout",
     "output_type": "stream",
     "text": [
      "TN: 1207\n",
      "FP: 1\n",
      "FN: 47\n",
      "TP: 138\n",
      "\n",
      "Ryan Septian Gandi\n"
     ]
    }
   ],
   "source": [
    "tn, fp, fn, tp = matrix.ravel()\n",
    "\n",
    "print(f'TN: {tn}')\n",
    "print(f'FP: {fp}')\n",
    "print(f'FN: {fn}')\n",
    "print(f'TP: {tp}')\n",
    "print('\\nRyan Septian Gandi')"
   ]
  },
  {
   "cell_type": "code",
   "execution_count": 9,
   "id": "52cd87fa-e34e-4fe0-8ec7-2861b20dba51",
   "metadata": {},
   "outputs": [
    {
     "data": {
      "image/png": "[encoded data removed]",
      "text/plain": [
       "<Figure size 480x480 with 2 Axes>"
      ]
     },
     "metadata": {},
     "output_type": "display_data"
    },
    {
     "name": "stdout",
     "output_type": "stream",
     "text": [
      "\n",
      "Ryan Septian Gandi\n"
     ]
    }
   ],
   "source": [
    "import matplotlib.pyplot as plt\n",
    "\n",
    "plt.matshow(matrix)\n",
    "plt.colorbar()\n",
    "\n",
    "plt.title('Confusion Matrix')\n",
    "plt.ylabel('True label')\n",
    "plt.xlabel('Predicted label')\n",
    "plt.show()\n",
    "print('\\nRyan Septian Gandi')"
   ]
  },
  {
   "cell_type": "markdown",
   "id": "09cbe200-e018-494a-ad22-d556f2dddd16",
   "metadata": {},
   "source": [
    "Accuracy"
   ]
  },
  {
   "cell_type": "code",
   "execution_count": 10,
   "id": "e8ded6ec-da2d-46b3-aac1-77f3c769dcd1",
   "metadata": {},
   "outputs": [
    {
     "data": {
      "text/plain": [
       "0.9655419956927495"
      ]
     },
     "execution_count": 10,
     "metadata": {},
     "output_type": "execute_result"
    }
   ],
   "source": [
    "from sklearn.metrics import accuracy_score\n",
    "\n",
    "accuracy_score(y_test, y_pred)\n",
    "# print('\\nRyan Septian Gandi')"
   ]
  },
  {
   "cell_type": "markdown",
   "id": "84f6e23b-77ed-4d2f-a09c-782351e85c0d",
   "metadata": {},
   "source": [
    "Precission & Recall"
   ]
  },
  {
   "cell_type": "code",
   "execution_count": 11,
   "id": "fed2098c-209d-400a-accc-16cb5b139c28",
   "metadata": {},
   "outputs": [
    {
     "data": {
      "text/plain": [
       "np.float64(0.9928057553956835)"
      ]
     },
     "execution_count": 11,
     "metadata": {},
     "output_type": "execute_result"
    }
   ],
   "source": [
    "# Precission or Positive Predictive Value (PPV)\n",
    "from sklearn.metrics import precision_score\n",
    "\n",
    "precision_score(y_test, y_pred)\n",
    "# print('\\nRyan Septian Gandi')"
   ]
  },
  {
   "cell_type": "code",
   "execution_count": 12,
   "id": "5901610f-c5ab-4f4c-993e-411cf0044bdb",
   "metadata": {},
   "outputs": [
    {
     "data": {
      "text/plain": [
       "np.float64(0.745945945945946)"
      ]
     },
     "execution_count": 12,
     "metadata": {},
     "output_type": "execute_result"
    }
   ],
   "source": [
    "# Recall or True Positive Rate (TPR) or Sensitivity\n",
    "from sklearn.metrics import recall_score\n",
    "\n",
    "recall_score(y_test, y_pred)\n",
    "# print('\\nRyan Septian Gandi')"
   ]
  },
  {
   "cell_type": "markdown",
   "id": "cf55173a-8bf6-4d73-8123-9974717ffd1b",
   "metadata": {},
   "source": [
    "F1-Score"
   ]
  },
  {
   "cell_type": "code",
   "execution_count": 13,
   "id": "3757dced-8c82-4859-bf1d-e314cd496335",
   "metadata": {},
   "outputs": [
    {
     "data": {
      "text/plain": [
       "np.float64(0.8518518518518519)"
      ]
     },
     "execution_count": 13,
     "metadata": {},
     "output_type": "execute_result"
    }
   ],
   "source": [
    "from sklearn.metrics import f1_score\n",
    "\n",
    "f1_score(y_test, y_pred)\n",
    "# print('\\nRyan Septian Gandi')"
   ]
  },
  {
   "cell_type": "markdown",
   "id": "87d4c9cf-cc10-4834-b6be-82df507845a9",
   "metadata": {},
   "source": [
    "ROC: Receiver Operating Characteristic"
   ]
  },
  {
   "cell_type": "code",
   "execution_count": 14,
   "id": "65e37af5-0b9f-418d-b26a-c872a94da931",
   "metadata": {},
   "outputs": [
    {
     "data": {
      "image/png": "[encoded data removed]",
      "text/plain": [
       "<Figure size 640x480 with 1 Axes>"
      ]
     },
     "metadata": {},
     "output_type": "display_data"
    },
    {
     "name": "stdout",
     "output_type": "stream",
     "text": [
      "\n",
      "Ryan Septian Gandi\n"
     ]
    }
   ],
   "source": [
    "from sklearn.metrics import roc_curve, auc\n",
    "\n",
    "prob_estimates = model.predict_proba(X_test_tfidf)\n",
    "\n",
    "fpr, tpr, threshhold = roc_curve(y_test, prob_estimates[:, 1])\n",
    "nilai_auc = auc(fpr, tpr)\n",
    "\n",
    "plt.plot(fpr, tpr, 'b', label=f'AUC={nilai_auc}')\n",
    "plt.plot([0,1], [0,1], 'r--', label='Random CLassifier')\n",
    "\n",
    "plt.title('ROC: Receiver Operating Characteristic')\n",
    "plt.xlabel('Fallout or False Positive Rate')\n",
    "plt.ylabel('Recall or True Positive Rate')\n",
    "plt.legend()\n",
    "plt.show()\n",
    "print('\\nRyan Septian Gandi')"
   ]
  },
  {
   "cell_type": "code",
   "execution_count": null,
   "id": "50fa1dce-4861-4793-8b95-0dd618b5af07",
   "metadata": {},
   "outputs": [],
   "source": []
  }
 ],
 "metadata": {
  "kernelspec": {
   "display_name": "Python 3 (ipykernel)",
   "language": "python",
   "name": "python3"
  },
  "language_info": {
   "codemirror_mode": {
    "name": "ipython",
    "version": 3
   },
   "file_extension": ".py",
   "mimetype": "text/x-python",
   "name": "python",
   "nbconvert_exporter": "python",
   "pygments_lexer": "ipython3",
   "version": "3.10.6"
  }
 },
 "nbformat": 4,
 "nbformat_minor": 5
}
